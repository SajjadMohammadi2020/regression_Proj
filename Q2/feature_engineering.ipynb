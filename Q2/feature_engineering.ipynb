{
 "cells": [
  {
   "cell_type": "markdown",
   "metadata": {
    "id": "YITqE5DUFY13"
   },
   "source": [
    "<h1 align=center style=\"line-height:200%;font-family:vazir;color:#0099cc\">\n",
    "<font face=\"vazir\" color=\"#0099cc\">\n",
    "مهندسی ویژگی\n",
    "</font>\n",
    "</h1>\n"
   ]
  },
  {
   "cell_type": "markdown",
   "metadata": {
    "id": "hwgtD7kmGa6L"
   },
   "source": [
    "<p dir=rtl style=\"direction: rtl;text-align: justify;line-height:200%;font-family:vazir;font-size:medium\">\n",
    "<font face=\"vazir\" size=3>\n",
    "مدل‌های برتر و دقیق نیاز به داده‌های با کیفیت دارند. بدون داده‌های عالی، مدل‌های عالی نمی‌توانند وجود داشته باشند. در این تمرین، هدف ما آشنایی با تکنیک‌های مهندسی داده و پردازش آن است. این تمرین به شما این امکان را می‌دهد که مهارت‌های مهمی در آماده‌سازی و تحلیل داده‌ها را تجربه کنید.\n",
    "<p dir=rtl style=\"direction: rtl;text-align: justify;line-height:200%;font-family:vazir;font-size:medium\">\n",
    "در این تمرین به انجام موارد زیر خواهید پرداخت:\n",
    "<ul dir=rtl>\n",
    "<li dir=rtl style=\"direction: rtl;text-align: justify;line-height:200%;font-family:vazir;font-size:medium\">\n",
    "پر کردن مقادیر گم‌شده (missing values) که می‌تواند در بهبود کیفیت داده‌ها و تحلیل‌های آتی شما تأثیرگذار باشد\n",
    "<li dir=rtl style=\"direction: rtl;text-align: justify;line-height:200%;font-family:vazir;font-size:medium\">\n",
    "کدگذاری متغیرهایی که طبقه‌بندی شده‌اند، به منظور تجزیه و تحلیل بهتر و دقیق‌تر داده‌ها\n",
    "<li dir=rtl style=\"direction: rtl;text-align: justify;line-height:200%;font-family:vazir;font-size:medium\">\n",
    "تبدیل متغیرهای عددی و تغییر توزیع آن‌ها به منظور افزایش دقت مدل‌های مهندسی داده\n",
    "</ul>\n",
    "</font>"
   ]
  },
  {
   "cell_type": "markdown",
   "metadata": {
    "id": "6HuLFkaOJmzY"
   },
   "source": [
    "<p dir=rtl style=\"direction: rtl;text-align: justify;line-height:200%;font-family:vazir;font-size:medium\">\n",
    "<font face=\"vazir\" size=3>\n",
    "از آن‌جا که در این تمرین با مجموعه‌داده‌ای بزرگ کار می‌کنید به شما پیشنهاد می‌کنیم  از امکانات <a href=\"https://colab.research.google.com/\">Google Colab</a> بهره‌ ببرید. همچنین، استفاده از تکنیک‌های بهینه‌نویسی کد که از مشکلات فضای حافظه جلوگیری می‌کند، بسیار مهم است.\n",
    "<p dir=rtl style=\"direction: rtl;text-align: justify;line-height:200%;font-family:vazir;font-size:medium\">\n",
    "<font face=\"vazir\" size=3>"
   ]
  },
  {
   "cell_type": "markdown",
   "metadata": {},
   "source": [
    "<h2 align=right style=\"line-height:200%;font-family:vazir;color:#0099cc\">\n",
    "<font face=\"vazir\" color=\"#0099cc\">\n",
    "مجموعه‌داده\n",
    "</font>\n",
    "</h2>\n",
    "\n",
    "<p dir=rtl style=\"direction: rtl;text-align: justify;line-height:200%;font-family:vazir;font-size:medium\">\n",
    "<font face=\"vazir\" size=3>\n",
    "مجموعه‌داده‌ی این تمرین برگرفته از <a href=\"https://www.kaggle.com/competitions/ashrae-energy-prediction/data\">این مسابقه</a> است. جهت راحتی دانلود برای شما، این مجموعه‌داده در <a href=\"https://drive.google.com/file/d/1-EUuljtwZ2aO2lPj5oqWSiAp-1WGdrKY/view?usp=sharing\">گوگل درایو</a> نیز آپلود شده است. این مجموعه‌داده حاوی خواندن ساعتی مصرف انرژی برای بیش از هزار ساختمان در طی سه سال در چندین مکان مختلف در سراسر جهان است.\n",
    "</font>\n",
    "</p>"
   ]
  },
  {
   "cell_type": "markdown",
   "metadata": {
    "id": "91W4AQL8Obuk"
   },
   "source": [
    "<details dir=\"rtl\" style=\"direction: rtl;text-align: justify;line-height:200%;font-family:vazir;font-size:medium\">\n",
    "<summary dir=\"rtl\" style=\"color:orange\"><b>راهنمایی: مصرف کمتر حافظه</b></summary>\n",
    "در اجرای تمرین، بهتر است متغیرها و دیتافریم‌های موقتی را با استفاده از دستور <code>del</code> پاک کنید تا مصرف حافظه بهینه شود.\n",
    "</details>"
   ]
  },
  {
   "cell_type": "markdown",
   "metadata": {
    "id": "zp1wY2E3PK_p"
   },
   "source": [
    "<details dir=\"rtl\" style=\"direction: rtl;text-align: justify;line-height:200%;font-family:vazir;font-size:medium\">\n",
    "<summary dir=\"rtl\" style=\"color:orange\"><b>راهنمایی: دانلود مستقیم مجموعه‌داده</b></summary>\n",
    "جهت دریافت مستقیم فایل مجموعه‌داده، می‌توانید از کتابخانه‌ی <code>gdown</code> استفاده کرده (این کتابخانه به‌صورت پیش‌فرض در کولب نصب است) و کد زیر را اجرا کنید:\n",
    "\n",
    "<center>\n",
    "<code dir=ltr>!gdown 1-EUuljtwZ2aO2lPj5oqWSiAp-1WGdrKY</code>\n",
    "</center>\n",
    "\n",
    "برای خارج کردن فایل‌ها از حالت فشرده نیز می‌توانید از کد زیر استفاده کنید:\n",
    "\n",
    "<center>\n",
    "<code dir=ltr>!unzip ashrae-energy-prediction.zip</code>\n",
    "</center>\n",
    "</details>\n",
    "\n"
   ]
  },
  {
   "cell_type": "code",
   "execution_count": null,
   "metadata": {
    "id": "vVh8GkCNkwQ1"
   },
   "outputs": [],
   "source": [
    "# TO-DO (Downloading data)"
   ]
  },
  {
   "cell_type": "markdown",
   "metadata": {
    "id": "DMvK4irW3l27"
   },
   "source": [
    "<h3 dir=rtl align=right style=\"line-height:200%;font-family:vazir;color:#0099cc\">\n",
    "<font face=\"vazir\" color=\"#0099cc\">\n",
    "فایل <code>train.csv</code>\n",
    "</font>\n",
    "</h3>\n",
    "\n",
    "\n",
    "<p dir=rtl style=\"direction: rtl;text-align: justify;line-height:200%;font-family:vazir;font-size:medium\">\n",
    "<font face=\"vazir\" size=3>\n",
    "<ul dir=rtl >\n",
    "<li dir=rtl><code dir=rtl>building_id</code> - کلید خارجی برای فایل <i>building metadata</i></li>\n",
    "<li dir=rtl><code dir=rtl>meter</code> - کد شناسه‌ی کنتور. با کد گذاری: <code dir=ltr>{0: electricity, 1: chilledwater, 2: steam, 3: hotwater}</code>. توجه کنید که تمام ساختمان‌ها لزوماً تمام کنتورها را ندارند.</li>\n",
    "<li dir=rtl><code dir=rtl>timestamp</code> - زمانی که اندازه‌گیری کنتور انجام شده است. این زمان شامل سال، ماه، روز و ساعت است برای هر روز ۲۴ بار کنتورها خوانده شده‌اند.</li>\n",
    "<li dir=rtl><code dir=rtl>meter_reading</code> - ستون هدف. مصرف انرژی بر حسب کیلو وات ساعت است. <span style=\"color:red\">توجه مهم:</span> طبق یادآوری  <a target=\"_blank\" href=\"https://www.kaggle.com/c/ashrae-energy-prediction/discussion/119261\">اینجا،</a> قرات کنتور برق مکان <code>0</code> بر حسب <code>kBTU</code> است و لازم است تا این مقادیر تبدیل به <code>kWh</code> شوند.</li>\n",
    "</ul>\n",
    "</font>\n",
    "</p>\n",
    "\n",
    "<h3 dir=rtl align=right style=\"line-height:200%;font-family:vazir;color:#0099cc\">\n",
    "<font face=\"vazir\" color=\"#0099cc\">\n",
    "فایل <code>building_meta.csv</code>\n",
    "</font>\n",
    "</h3>\n",
    "\n",
    "<p dir=rtl style=\"direction: rtl;text-align: justify;line-height:200%;font-family:vazir;font-size:medium\">\n",
    "<font face=\"vazir\" size=3>\n",
    "<ul dir=rtl>\n",
    "<li dir=rtl><code dir=rtl>site_id</code> - کلید خارجی برای فایل <i>weather</i></li>\n",
    "<li dir=rtl><code dir=rtl>building_id</code> - کلید خارجی برای فایل <code dir=ltr>training.csv</code></li>\n",
    "<li dir=rtl><code dir=rtl>primary_use</code> - طبقه بندی ساختمان‌ها بر اساس نوع کاربری</li>\n",
    "<li dir=rtl><code dir=rtl>square_feet</code> - مساحت زیر بنا</li>\n",
    "<li dir=rtl><code dir=rtl>year_built</code> - سال ساخت ساختمان</li>\n",
    "<li dir=rtl><code dir=rtl>floor_count</code> - تعداد طبقات ساختمان</li>\n",
    "</ul>\n",
    "</font>\n",
    "</p>\n",
    "\n",
    "<h3 dir=rtl align=right style=\"line-height:200%;font-family:vazir;color:#0099cc\">\n",
    "<font face=\"vazir\" color=\"#0099cc\">\n",
    "فایل <code>weather_[train/test].csv</code>\n",
    "</font>\n",
    "</h3>\n",
    "\n",
    "<p dir=rtl style=\"direction: rtl;text-align: justify;line-height:200%;font-family:vazir;font-size:medium\">\n",
    "<font face=\"vazir\" size=3>\n",
    "داد‌ه‌های آب و هوایی از نزدیک ‌ترین ایستگاه هواشناسی مکان ساختمان گرفته شده است.\n",
    "<ul dir=rtl>\n",
    "<li dir=rtl><code dir=rtl>site_id</code></li>\n",
    "<li dir=rtl><code dir=rtl>air_temperature</code> - دمای هوا به سیلسیوس </li>\n",
    "<li dir=rtl><code dir=rtl>cloud_coverage</code> -پوشیدگی آسمان از ابر طبق معیار <a rel=\"noreferrer nofollow\" target=\"_blank\" href=\"https://en.wikipedia.org/wiki/Okta\">oktas</a> در این معیار عدد <code>0</code> یعنی آسمان کاملا صاف و عدد <code>8</code> نمایشگر آسمان تمام ابری است</li>\n",
    "<li dir=rtl><code dir=rtl>dew_temperature</code> - درجه سیلسیوس</li>\n",
    "<li dir=rtl><code dir=rtl>precip_depth_1_hr</code> - میزان بارندگی در یک ساعت بر مبنای میلی متر</li>\n",
    "<li dir=rtl><code dir=rtl>sea_level_pressure</code> -  فاصله از سطح دریا بر مبنای  Millibar/hectopascals</li>\n",
    "<li dir=rtl><code dir=rtl>wind_direction</code> - جهت وزش باد بر حسب جهت قطب نما (0-360)</li>\n",
    "<li dir=rtl><code dir=rtl>wind_speed</code> - سرعت باد بر حسب متر بر ثانیه </li>\n",
    "</ul>\n",
    "</font>\n",
    "</p>\n",
    "\n",
    "<p dir=rtl style=\"direction: rtl;text-align: justify;line-height:200%;font-family:vazir;font-size:medium\">\n",
    "<font face=\"vazir\" size=3>\n",
    "در این تمرین با <code>test.csv</code>  و <code>sample_submission.csv</code> کار نمی‌کنیم.\n",
    "</font>\n",
    "</p>\n"
   ]
  },
  {
   "cell_type": "code",
   "execution_count": null,
   "metadata": {
    "id": "tdG_TTYuphlM"
   },
   "outputs": [],
   "source": [
    "# To-Do (Importing libraries)\n",
    "import numpy as np"
   ]
  },
  {
   "cell_type": "markdown",
   "metadata": {
    "id": "tUPNjz9tPnQq"
   },
   "source": [
    "<p dir=rtl style=\"direction: rtl;text-align: justify;line-height:200%;font-family:vazir;font-size:medium\">\n",
    "<font face=\"vazir\" size=3>\n",
    "ابتدا سه فایل <code>train.csv</code> و <code>weather_train.csv</code> و <code>building_metadata.csv</code> را بخوانید.\n",
    "سپس این سه فایل را با هم ادغام (<code>merge</code>) کنید."
   ]
  },
  {
   "cell_type": "markdown",
   "metadata": {
    "id": "GnkeDKF8QAXn"
   },
   "source": [
    "<details dir=\"rtl\" style=\"direction: rtl;text-align: justify;line-height:200%;font-family:vazir;font-size:medium\">\n",
    "<summary dir=\"rtl\" style=\"color:orange\"><b>راهنمایی: نحوه‌ی ادغام</b></summary>\n",
    "فایل <code>train</code> و <code>building_metadata</code> روی ستون <code>building_id</code> ادغام می‌شوند و حاصل آن روی ستون‌ها <code>site_id</code> , <code>timestamp</code> با <code>weather_train</code> ادغام می‌شود.\n",
    "</details>"
   ]
  },
  {
   "cell_type": "code",
   "execution_count": null,
   "metadata": {
    "id": "H3L4EC1FphlP"
   },
   "outputs": [],
   "source": [
    "# TO-DO (Loading and merging data)"
   ]
  },
  {
   "cell_type": "markdown",
   "metadata": {
    "id": "wNpsU17nQ5oy"
   },
   "source": [
    "<h2 align=right style=\"line-height:200%;font-family:vazir;color:#0099cc\">\n",
    "<font face=\"vazir\" color=\"#0099cc\">\n",
    "پیش‌پردازش\n",
    "</font>\n",
    "</h2>\n",
    "\n",
    "\n",
    "<p dir=rtl style=\"direction: rtl;text-align: justify;line-height:200%;font-family:vazir;font-size:medium\">\n",
    "<font face=\"vazir\" size=3>\n",
    "برای کاهش حجم داده‌ها، تمرکز خود را فقط بر روی مصرف برق قرار می‌دهیم. در نتیجه تنها سطرهای که دارای مقدار <code>meter=0</code> است را نگه دارید و ستون <code>meter</code> را نیز حذف کنید. فراموش نکنید که برای موقعیت <code>site_id = 0</code>  مقادیر <code>meter_reading</code> بر حسب <code>kBTU</code> است و باید آن را به <code>kWh</code> تبدیل کنید."
   ]
  },
  {
   "cell_type": "code",
   "execution_count": null,
   "metadata": {
    "id": "uIvky1V-FvTL"
   },
   "outputs": [],
   "source": [
    "# TO-DO (Filtering meter column)"
   ]
  },
  {
   "cell_type": "markdown",
   "metadata": {
    "id": "MOd4iZReLCW0"
   },
   "source": [
    "<p dir=rtl style=\"direction: rtl;text-align: justify;line-height:200%;font-family:vazir;font-size:medium\">\n",
    "<font face=\"vazir\" size=3>\n",
    "جدول معیارهای آماری داده را رسم کنید. (راهنمایی: تابع <code>describe</code>)\n"
   ]
  },
  {
   "cell_type": "code",
   "execution_count": null,
   "metadata": {
    "id": "8abxl4YZ5fgy"
   },
   "outputs": [],
   "source": [
    "# TO-DO (Describe data)"
   ]
  },
  {
   "cell_type": "markdown",
   "metadata": {
    "id": "79f-3vwTRUvY"
   },
   "source": [
    "<p dir=rtl style=\"direction: rtl;text-align: justify;line-height:200%;font-family:vazir;font-size:medium\">\n",
    "<font face=\"vazir\" size=3>\n",
    "برای اینکه مقدار مصرف حافظه رم کاهش پیدا کند می‌توانید از ایده‌ی زیر کمک گرفته و تابع زیر را اجرا کنید.\n",
    "<br>\n",
    "در این تابع، ابتدا برای هر ستون عددی در مجموعه‌داده، مقدار کمینه (<code>c_min</code>) و بیشینه (<code>c_max</code>) آن ستون  محاسبه می‌شود. این دو، نمایانگر محدوده‌ی مقادیر در ستون هستند.\n",
    " سپس بررسی می‌شود که آیا می‌توان نوع داده ستون را به یک نوع داده با حافظه‌ی کمتر تغییر داد یا نه.\n",
    " اگر مقادیر ستون در محدوده‌ای باشند که می‌توانند با نوع داده‌ای با حافظه‌ی کمتر نمایانگر شوند (برای مثال، اگر مقادیر در بازه‌ی معتبر نوع <code>int8</code> قرار بگیرند)، تابع، نوع داده‌ی ستون را به نوع مطابق با این مقادیر تغییر می‌دهد.\n",
    "</font>\n",
    "</p>"
   ]
  },
  {
   "cell_type": "code",
   "execution_count": null,
   "metadata": {},
   "outputs": [],
   "source": [
    "# To-Do (Run df.info() function on data)"
   ]
  },
  {
   "cell_type": "code",
   "execution_count": null,
   "metadata": {
    "id": "uk-e40sBphlQ"
   },
   "outputs": [],
   "source": [
    "#‌ ‌Reduce‌ ‌memory‌ ‌usage‌ ‌by‌ ‌converting‌ ‌column‌ ‌data‌ ‌types‌ ‌\n",
    "def reduce_memory_usage(df, verbose=True):\n",
    "    numerics = ['int16', 'int32', 'int64', 'float16', 'float32', 'float64']\n",
    "    # Compute memory usage\n",
    "    start_mem = df.memory_usage().sum() / 1024**2\n",
    "    # Iterate through each column\n",
    "    for col in df.columns:\n",
    "        col_type = df[col].dtypes\n",
    "        if col_type in numerics:\n",
    "            c_min = df[col].min()\n",
    "            c_max = df[col].max()\n",
    "            if str(col_type)[:3] == 'int':\n",
    "                if c_min > np.iinfo(np.int8).min and c_max < np.iinfo(np.int8).max:\n",
    "                    df[col] = df[col].astype(np.int8)\n",
    "                elif c_min > np.iinfo(np.int16).min and c_max < np.iinfo(np.int16).max:\n",
    "                    df[col] = df[col].astype(np.int16)\n",
    "                elif c_min > np.iinfo(np.int32).min and c_max < np.iinfo(np.int32).max:\n",
    "                    df[col] = df[col].astype(np.int32)\n",
    "                elif c_min > np.iinfo(np.int64).min and c_max < np.iinfo(np.int64).max:\n",
    "                    df[col] = df[col].astype(np.int64)\n",
    "            else:\n",
    "                if c_min > np.finfo(np.float16).min and c_max < np.finfo(np.float16).max:\n",
    "                    df[col] = df[col].astype(np.float16)\n",
    "                elif c_min > np.finfo(np.float32).min and c_max < np.finfo(np.float32).max:\n",
    "                    df[col] = df[col].astype(np.float32)\n",
    "                else:\n",
    "                    df[col] = df[col].astype(np.float64)\n",
    "    # Compute memory usage after reduction\n",
    "    end_mem = df.memory_usage().sum() / 1024**2\n",
    "    # Print out the difference between memory usage before and after\n",
    "    if verbose: print('Mem. usage decreased to {:5.2f} Mb ({:.1f}% reduction)'.format(end_mem, 100 * (start_mem - end_mem) / start_mem))\n",
    "    return df"
   ]
  },
  {
   "cell_type": "code",
   "execution_count": null,
   "metadata": {
    "id": "Zp0o7Jpjmx5G"
   },
   "outputs": [],
   "source": [
    "# To-Do (Apply reduce_memory_usage function to data)"
   ]
  },
  {
   "cell_type": "code",
   "execution_count": null,
   "metadata": {},
   "outputs": [],
   "source": [
    "# To-Do (Run df.info() function on data)"
   ]
  },
  {
   "cell_type": "markdown",
   "metadata": {
    "id": "J3XBp1uUINBH"
   },
   "source": [
    "<p dir=rtl style=\"direction: rtl;text-align: justify;line-height:200%;font-family:vazir;font-size:medium\">\n",
    "<font face=\"vazir\" size=3>\n",
    "مقدار <code>meter_reading</code> در بعضی از موارد صفر است و به نظر می‌رسد کنتور خوانده نشده است، در نتیجه می‌توانیم این سطر‌ها را حذف کنیم.\n",
    "</font>\n",
    "</p>"
   ]
  },
  {
   "cell_type": "code",
   "execution_count": null,
   "metadata": {
    "id": "6Wh_XK64IWJj"
   },
   "outputs": [],
   "source": [
    "# To-Do (Remove meter_reading=0 rows)"
   ]
  },
  {
   "cell_type": "markdown",
   "metadata": {
    "id": "VQncKpR7R1Au"
   },
   "source": [
    "<p dir=rtl style=\"direction: rtl;text-align: justify;line-height:200%;font-family:vazir;font-size:medium\">\n",
    "<font face=\"vazir\" size=3>\n",
    "ستون <code>timestamp</code> را حتماً به فرمت تاریخ و ساعت (<code>datetime</code>) تبدیل کنید و یک ستون به اسم <code>month</code> به داده‌های خود اضافه کنید که شامل عدد آن ماه باشد.\n",
    "</font>\n",
    "</p>"
   ]
  },
  {
   "cell_type": "code",
   "execution_count": null,
   "metadata": {
    "id": "P_JBWJoMphlT"
   },
   "outputs": [],
   "source": [
    "# To-Do (Convert timestamp to datetime)\n",
    "# To-Do (Add month column)"
   ]
  },
  {
   "cell_type": "code",
   "execution_count": null,
   "metadata": {},
   "outputs": [],
   "source": [
    "# To-Do (Run df.info() function on data)"
   ]
  },
  {
   "cell_type": "markdown",
   "metadata": {},
   "source": [
    "<h2 dir=rtl align=right style=\"line-height:200%;font-family:vazir;color:#0099cc\">\n",
    "<font face=\"vazir\" color=\"#0099cc\">\n",
    "تحلیل اکتشافی (Exploratory Data Analysis)\n",
    "</font>\n",
    "</h2>\n",
    "\n",
    "<p dir=rtl style=\"direction: rtl;text-align: justify;line-height:200%;font-family:vazir;font-size:medium\">\n",
    "<font face=\"vazir\" size=3>\n",
    "قبل از ورود به مرحله‌ی تکنیک‌های مهندسی ویژگی، بهتر است که ابتدا داده‌ها را به دقت تجزیه و تحلیل کنیم. این کار به ما این امکان را می‌دهد که با دقت بیشتری با داده‌ها آشنا شویم و درک مناسبی از ماهیت آن‌ها به دست آوریم.\n",
    "\n",
    "<br>\n",
    "برای این کار می توانید از نمونه های زیر کمک بگیرید:\n",
    "\n",
    "<ul dir=rtl>\n",
    "<li dir=rtl style=\"direction: rtl;text-align: justify;line-height:200%;font-family:vazir;font-size:medium\">\n",
    "درصد داده‌های گم‌شده در هر ستون محاسبه شود\n",
    "</li>\n",
    "<li dir=rtl style=\"direction: rtl;text-align: justify;line-height:200%;font-family:vazir;font-size:medium\">\n",
    "می‌توانید با استفاده از کتابخانه‌ی\n",
    "<a target=\"_blank\" href=\"https://github.com/ResidentMario/missingno\">missingno\n",
    "</a>\n",
    " ماتریس مقادیر گم‌شده را در یک پلات ببینید و بتوانید با سرعت تصمیم بگیرید از کدام روش برای پر کردن مقادیر داده‌ها استفاده کنید.\n",
    "</li>\n",
    "<li dir=rtl style=\"direction: rtl;text-align: justify;line-height:200%;font-family:vazir;font-size:medium\"> با استفاده از کتابخانه‌ی\n",
    "<a target=\"_blank\" href=\"https://github.com/ResidentMario/missingno\">missingno\n",
    "</a>\n",
    " نمودار <i>dendrogram</i> داده‌ها را رسم کنید (نمودار <i>dendrogram</i>، یک نمودار خوشه‌بندی سلسله‌مراتبی است که در این‌جا وابستگی داده‌ها به یکدیگر را نشان می‌دهد. برای مثال برگ‌های خوشه‌ای که در فاصله‌ی عمودی صفر به یک دیگر متصل شده‌اند یعنی حضور یکدیگر را کاملاً پیش بینی می‌کنند)\n",
    "</li>\n",
    "<li dir=rtl style=\"direction: rtl;text-align: justify;line-height:200%;font-family:vazir;font-size:medium\">\n",
    "توزیع ستون‌ها را رسم نمایید\n",
    "</li>\n",
    "<li dir=rtl style=\"direction: rtl;text-align: justify;line-height:200%;font-family:vazir;font-size:medium\">\n",
    "نمودار میانگین دمای هر ماه را برای هر <code>site_id</code> مجزا رسم نمایید (پیشنهاد می‌کنیم از نمودار خطی استفاده کنید و در یک پلات هر خط نمایانگر یک <code>site_id</code> باشد)\n",
    "</li>\n",
    "<li dir=rtl style=\"direction: rtl;text-align: justify;line-height:200%;font-family:vazir;font-size:medium\">\n",
    "هر نمودار یا تحلیلی که فکر می‌کنید به درک شما از داده کمک می‌کند\n",
    "</li>\n",
    "</font>\n",
    "</p>"
   ]
  },
  {
   "cell_type": "code",
   "execution_count": null,
   "metadata": {
    "id": "qt2ahO6pphlU"
   },
   "outputs": [],
   "source": [
    "# To-Do (Exploratory data analysis)"
   ]
  },
  {
   "cell_type": "markdown",
   "metadata": {
    "id": "FG-8_IxC5prA"
   },
   "source": [
    "<h2 dir=rtl align=right style=\"line-height:200%;font-family:vazir;color:#0099cc\">\n",
    "<font face=\"vazir\" color=\"#0099cc\">\n",
    "مدل‌سازی اولیه\n",
    "</font>\n",
    "</h2>\n",
    "<p dir=rtl style=\"direction: rtl;text-align: justify;line-height:200%;font-family:vazir;font-size:medium\">\n",
    "<font face=\"vazir\" size=3>\n",
    "اکنون که با داده‌ها آشنا شدیم، ابتدا داده‌ها را به الگوریتم <code>DecisionTreeRegressor</code> (<a href=\"https://scikit-learn.org/stable/modules/generated/sklearn.tree.DecisionTreeRegressor.html\">مطالعه‌ی مستندات</a>) بدون پیش‌پردازش خاصی بدهید.\n",
    "<br>\n",
    "۱.\n",
    " برای این کار، ابتدا ستون‌های\n",
    "<code>timestamp</code> ،\n",
    "<code>year_built</code> ،\n",
    "<code>floor_count</code>\n",
    "و <code>cloud_coverage</code> را کاملاً از داده‌ها حذف کنید. این اقدام انجام می‌شود زیرا این ستون‌ها بیش از ۴۰ درصد مقادیر گم‌شده دارند و <code>timestamp</code> هم به عنوان داده‌ی زمانی است و نیاز به پیش‌پردازش دارد.\n",
    "<br>\n",
    "۲.\n",
    "سپس تمام سطرهایی که حداقل در یک ستون، مقدار گم‌شده دارند را حذف کنید.\n",
    "<br>\n",
    "۳.\n",
    "ستون <code>primary_use</code> را با استفاده از <code>LabelEncoder</code> کدگذاری کنید تا هر دسته به صورت عددی کدگذاری شود.\n",
    "<br>\n",
    "۴.\n",
    "ستون هدف (<code>meter_reading</code>) و ستون‌های ویژگی از یک دیگر متمایز شوند و سپس داده‌ها را با استفاده از <code>train_test_split</code> به دو بخش آموزش و ارزیابی تقسیم کنید. لطفاً توجه داشته باشید که مقدارهای <code dir=ltr>test_size=0.3</code> و <code dir=ltr>random_state=42</code> را استفاده کنید.\n",
    "<br>\n",
    "۵.\n",
    "در نهایت، داده‌ها را به یک <code>DecisionTreeRegressor</code> با پارامتر <code>max_depth=20</code> بدهید و مقدار R-squared (R2) را محاسبه کنید.\n",
    "\n",
    "</font>\n",
    "</p>\n",
    "\n",
    "<details dir=\"rtl\" style=\"direction: rtl;text-align: justify;line-height:200%;font-family:vazir;font-size:medium\">\n",
    "<summary dir=\"rtl\" style=\"color:green\"><b>نکته: توضیحات بیشتر درباره‌ی معیار R-squared</b></summary>\n",
    "مقدار R-squared یا به اختصار R2 یک معیار است که در مدل‌سازی و ارزیابی مدل‌های پیش‌بینی رگرسیون استفاده می‌شود. به‌صورت ساده، R2 نشان می‌دهد چه قدر از تغییرات وارد شده در متغیر وابسته (در اینجا متغیر <code>meter_reading</code>) توسط مدل توجیه شده است.\n",
    "<br>\n",
    "مقدار R2 بین 0 و 1 قرار دارد:\n",
    "<br>\n",
    "- R2 = 1: نشان می‌دهد که مدل تمام تغییرپذیری داده‌های پاسخ در اطراف میانگین آن را تبیین می‌نماید.\n",
    "<br>\n",
    "- R2 = 0:  مدل هیچ ارتباطی با متغییرهای وابسته و مستقل را در اطراف میانگین آن نشان نمی‌دهد.\n",
    "<br>\n",
    "از آنجا که R2 به‌صورت نسبی است، مقدار بالاتر نشان‌دهنده‌ی عملکرد بهتر مدل است.\n",
    "</details>"
   ]
  },
  {
   "cell_type": "code",
   "execution_count": null,
   "metadata": {
    "id": "0ZyoRLiosmwW"
   },
   "outputs": [],
   "source": [
    "# To-Do (Basic model)"
   ]
  },
  {
   "cell_type": "markdown",
   "metadata": {},
   "source": [
    "<h2 dir=rtl align=right style=\"line-height:200%;font-family:vazir;color:#0099cc\">\n",
    "<font face=\"vazir\" color=\"#0099cc\">\n",
    "مهندسی ویژگی\n",
    "</font>\n",
    "</h2>\n",
    "\n",
    "<p dir=rtl style=\"direction: rtl;text-align: justify;line-height:200%;font-family:vazir;font-size:medium\">\n",
    "<font face=\"vazir\" size=3>\n",
    "در ابتدا، از پر کردن داده‌های گم‌شده شروع می‌کنیم.\n",
    "<br>\n",
    "استفاده از میانگین یا میانه برای پر کردن مقادیر گم‌شده یکی از روش‌های معمول\n",
    "  در تجزیه و تحلیل داده است. در حالتی که توزیع داده‌ها از توزیع گوسی پیروی کند واضح است که انتخاب میانگین یا میانه تفاوتی ندارد. در صورتی که داده‌ها توزیعی با چولگی (skewness) داشته باشند، معمولاً از میانه استفاده می‌شود.\n",
    "<br>\n",
    "تنها نکته‌ای که باید مورد توجه قرار گیرد این است که در صورتی که ستون‌هایی بیش از ۵  درصد مقادیر گم‌شده داشته باشند، استفاده از میانگین یا میانه مناسب نیست.\n",
    "<br>\n",
    "همچنین، باید توجه داشته باشیم که مقادیر گم‌شده در مجموعه اعتبارسنجی یا آزمون با میانگین یا میانه‌ی داده‌های آموزشی پر می شود.\n",
    "<br>\n",
    "در نهایت، توجه کنید که فعلاً ستون هدف از ماتریس ویژگی‌ها جدا نشود. لطفاً از تابع <code>train_test_split</code> استفاده کنید و پارامتر های <code dir=ltr>test_size=0.3</code> و <code dir=ltr>random_state=42</code> را استفاده کنید تا برای مقایسه مدل پیش‌بینی‌کننده‌ی نهایی با مدل قبلی مشکلی نداشته باشیم (بردار  <code>y</code>  را به ماتریس <code>X</code> بچسبانید).\n",
    "<br>\n",
    "دو ستون <code>sea_level_pressure</code> و <code>air_temperature_mean</code> به نظر توزیع نرمالی دارند و حدوداً تعداد مقادیر گم‌شده‌شان کمتر از ۵ درصد است، بنابراین می‌توانید مقادیر گم‌شده‌ی ستون <code>sea_level_pressure</code> را با میانگین کل داده ها پر کنید.\n",
    "اما پر کردن مقادیر گم شده ستون <code>air_temperature</code> با میانگین کل منطقی به نظر نمی رسد.\n",
    "بهتر است در هر <code>site</code> میانگین ماه گرفته شود و مقدار گم شده در هر ماه با میانگین ماه پر شود.\n",
    "</font>\n",
    "</p>"
   ]
  },
  {
   "cell_type": "markdown",
   "metadata": {
    "id": "y9ZWczEQmrBj"
   },
   "source": [
    "<details dir=\"rtl\" style=\"direction: rtl;text-align: justify;line-height:200%;font-family:vazir;font-size:medium\">\n",
    "<summary dir=\"rtl\" style=\"color:orange\"><b>راهنمایی: <code>NaN</code> شدن میانگین</b></summary>\n",
    "اگر مقدار میانگین کل شما برابر با <code>NaN</code> می شود به تایپ ستون و محدودیت آن توجه کنید.\n",
    "</details>"
   ]
  },
  {
   "cell_type": "code",
   "execution_count": null,
   "metadata": {
    "id": "0nyMkH_pcesd"
   },
   "outputs": [],
   "source": [
    "# To-Do (Handling missing values 1)"
   ]
  },
  {
   "cell_type": "markdown",
   "metadata": {
    "id": "qc-88TB0pQGS"
   },
   "source": [
    "<p dir=rtl style=\"direction: rtl;text-align: justify;line-height:200%;font-family:vazir;font-size:medium\">\n",
    "<font face=\"vazir\" size=3>\n",
    "سه ستون <code>wind_speed</code>، <code>wind_direction</code> و <code>dew_temperature</code>  دارای چولگی هستند.\n",
    "<br>\n",
    "برای پیش‌پردازش این ستون‌ها، می‌توانید به این ترتیب عمل کنید:\n",
    "<br>\n",
    "۱. میانگین و میانه‌ی هر ماه در هر <code>site_id</code> را برای هر سه ستون محاسبه کنید.\n",
    "<br>\n",
    "۲. سپس برای هر ستون، یک نمودار خطی رسم کنید که در هر نمودار میانگین و میانه‌ی ستون را در هر <code>site_id</code> ، در هر ماه  مشاهده کنیم.\n",
    "<br>\n",
    "این اقدامات به شما این امکان را می‌دهند تا تغییرات میانگین و میانه این ستون‌ها در طول زمان و بر اساس مکان‌ها (سایت‌ها) را به صورت واضح مشاهده کنید و درک بهتری از داده‌ها داشته باشید.\n",
    "</font>\n",
    "</p>"
   ]
  },
  {
   "cell_type": "code",
   "execution_count": null,
   "metadata": {
    "id": "AI7RhhJa3T5d"
   },
   "outputs": [],
   "source": [
    "# To-Do (Analysing wind_direction, wind_speed and dew_temperature)"
   ]
  },
  {
   "cell_type": "markdown",
   "metadata": {
    "id": "hen2tp8UK69P"
   },
   "source": [
    "<p dir=rtl style=\"direction: rtl;text-align: justify;line-height:200%;font-family:vazir;font-size:medium\">\n",
    "<font face=\"vazir\" size=3>\n",
    "با توجه به مشاهده‌‌ی این‌که ستون‌های <code>dew_temperature</code> و <code>wind_speed</code> تفاوت چندانی\n",
    "در مقدار میانگین و میانه ندارند، برای این دو ستون می‌توان از مقدار میانگین استفاده کرد.\n",
    "<br>\n",
    "اما در مورد ستون <code>wind_direction</code>، این دو مقدار کمی تفاوت دارند، اگر چه می‌توان به صلاح دید از میانگین یا میانه استفاده کرد اما چون می‌خواهیم شما با تکنیک‌های متفاوت آشنا شوید، مقادیر گم شده این ستون را با تکنیک دیگری که در انتها‌ی بخش آمده پر می‌کنیم.\n",
    "</font>\n",
    "</p>"
   ]
  },
  {
   "cell_type": "code",
   "execution_count": null,
   "metadata": {
    "id": "dDgt7gLV93Ea"
   },
   "outputs": [],
   "source": [
    "# To-Do (Handling missing values 2)"
   ]
  },
  {
   "cell_type": "markdown",
   "metadata": {
    "id": "h8AxMLu7Mi5g"
   },
   "source": [
    "<p dir=rtl style=\"direction: rtl;text-align: justify;line-height:200%;font-family:vazir;font-size:medium\">\n",
    "<font face=\"vazir\" size=3>\n",
    "با توجه به اینکه ستون <code>cloud_coverage</code> حدود ۴۴ درصد مقدار گم‌شده دارد و می‌دانیم که داده‌های آب و هوایی در هر روز ۲۴ بار (ساعتی یک بار) درج شده‌اند و می‌توانند با هم مرتبط باشند، می‌توانید از روش <a target=\"_blank\" href=\"https://en.wikipedia.org/wiki/Interpolation\">درون‌یابی (Interpolation)</a> خطی برای پر کردن مقادیر گم‌شده استفاده کنید. برای این کار:\n",
    "<br>\n",
    "۱. داده‌ها را بر اساس ستون‌های  <code>site_id</code> و <code>timestamp</code> مرتب کنید.\n",
    "<br>\n",
    "۲. سپس می‌توانید از روش درون‌یابی خطی مانند روش <code dir=ltr>interpolate()</code> در کتابخانه‌ی <code>pandas</code> استفاده کنید تا مقادیر گم‌شده را پر کنید. این روش به‌صورت خودکار مقادیر گم‌شده را با توجه به مقادیر مجاور و با استفاده از مدل خطی پر می‌کند.\n",
    "شما می‌توانید نوع درون‌یابی را با استفاده از پارامتر <code>method</code> تعیین کنید. برخی از مقادیر معتبر برای <code>method</code> عبارتند از:\n",
    "<ul dir=rtl>\n",
    " <li dir=rtl style=\"direction: rtl;text-align: justify;line-height:200%;font-family:vazir;font-size:medium\"> <code dir=rtl>'linear'</code> (پیش‌فرض): درون‌یابی خطی\n",
    "<li dir=rtl style=\"direction: rtl;text-align: justify;line-height:200%;font-family:vazir;font-size:medium\"><code dir=rtl>'polynomial'</code>: درون‌یابی چند جمله‌ای\n",
    "<li dir=rtl style=\"direction: rtl;text-align: justify;line-height:200%;font-family:vazir;font-size:medium\"><code dir=rtl>'spline'</code>: درون‌یابی با استفاده از مدل‌های <i>spline</i>\n",
    "<li dir=rtl style=\"direction: rtl;text-align: justify;line-height:200%;font-family:vazir;font-size:medium\"> و غیره\n",
    "<p dir=rtl style=\"direction: rtl;text-align: justify;line-height:200%;font-family:vazir;font-size:medium\">\n",
    "<font face=\"vazir\" size=3>\n",
    "</li>\n",
    "</ul>\n",
    "</font>\n",
    "</p>\n",
    "\n",
    "<p dir=rtl style=\"direction: rtl;text-align: justify;line-height:200%;font-family:vazir;font-size:medium\">\n",
    "<font face=\"vazir\" size=3>\n",
    "این روش ممکن است تا حد زیادی بهبودی در پر کردن مقادیر گم‌شده داشته باشد و با در نظر گرفتن رابطه‌ی زمانی بین داده‌های آب و هوا،اطلاعات دقیق‌تری را ایجاد کند.\n",
    "</font>\n",
    "</p>"
   ]
  },
  {
   "cell_type": "code",
   "execution_count": null,
   "metadata": {
    "id": "5py5b-cF93CR"
   },
   "outputs": [],
   "source": [
    "# To-Do (Handling missing values 3)"
   ]
  },
  {
   "cell_type": "markdown",
   "metadata": {
    "id": "uxoQtxErtQwC"
   },
   "source": [
    "<p dir=rtl style=\"direction: rtl;text-align: justify;line-height:200%;font-family:vazir;font-size:medium\">\n",
    "<font face=\"vazir\" size=3>\n",
    "با توجه به اینکه ستون <code>cloud_coverage</code> با استفاده از پارامتر <a href=\"https://en.m.wikipedia.org/wiki/Okta\">اوکتا</a> پر شده است، می‌توانیم اطمینان حاصل کنیم که زمانی که مقدار ستون <code>cloud_coverage</code> برابر با صفر باشد، آسمان کاملاً صاف است. از این رو، ممکن است با احتمال بسیار زیاد مقدار ستون <code>precip_depth_1_hr</code> نیز در این زمان به صفر برسد.\n",
    "<br>\n",
    "در نتیجه، اگر مقدار ستون <code>cloud_coverage</code> برابر با صفر باشد و در عین حال در ستون <code>precip_depth_1_hr</code> مقدار نامعتبر (<code>NaN</code>) داشته باشند، می‌توانید این مقدار نامعتبر را با صفر جایگزین کنید.\n",
    "<br>\n",
    "اکنون، با محاسبه‌ی درصد مقادیر نامعتبر (<code>NaN</code>) در این ستون، می‌بینیم که حدود ۶ درصد از مقادیر این ستون نامعتبر هستند. در نتیجه، می‌توانید از میانگین بارش ماهانه برای پر کردن مقادیر نامعتبر در بقیه سطرها استفاده کنید.\n",
    "</font>\n",
    "</p>"
   ]
  },
  {
   "cell_type": "markdown",
   "metadata": {
    "id": "uwtLPu51wg56"
   },
   "source": [
    "<details dir=\"rtl\" style=\"direction: rtl;text-align: justify;line-height:200%;font-family:vazir;font-size:medium\">\n",
    "<summary dir=\"rtl\" style=\"color:orange\"><b>راهنمایی: مدیریت گزارش‌نشدن بارش</b></summary>\n",
    "در برخی از ماه‌ها، هیچ روزی مقدار بارش گزارش نشده است. میانگین این ماه ها را <code dir=ltr>-1</code> در نظر بگیرید.\n",
    "</details>"
   ]
  },
  {
   "cell_type": "code",
   "execution_count": null,
   "metadata": {
    "id": "jrusHfeOpjnv"
   },
   "outputs": [],
   "source": [
    "# To-Do (Handling missing values 4)"
   ]
  },
  {
   "cell_type": "markdown",
   "metadata": {
    "id": "22vai2VuA1NA"
   },
   "source": [
    "<p dir=rtl style=\"direction: rtl;text-align: justify;line-height:200%;font-family:vazir;font-size:medium\">\n",
    "<font face=\"vazir\" size=3>\n",
    "ستون <code>year_built</code> را حذف کرده و همچنین فعلا سطرهایی که تعداد طبقات (<code>floor_count</code>) آن‌ها ذکر نشده را نیز حذف می‌کنیم (در نتیجه یک کپی از دیتا فریم اصلی خود داشته باشید).\n",
    "</font>\n",
    "</p>"
   ]
  },
  {
   "cell_type": "code",
   "execution_count": null,
   "metadata": {
    "id": "eUabeHhKNJAV"
   },
   "outputs": [],
   "source": [
    "# To-Do (Make a copy and remove year_built and floor_count columns)"
   ]
  },
  {
   "cell_type": "markdown",
   "metadata": {
    "id": "ZwAV1HRrswuK"
   },
   "source": [
    "<p dir=rtl style=\"direction: rtl;text-align: justify;line-height:200%;font-family:vazir;font-size:medium\">\n",
    "<font face=\"vazir\" size=3>\n",
    "قبل از اینکه به مورد پر کردن مقادیر گم شده ستون <code>wind_direction</code> بپردازیم، در مورد پیش‌پردازش ستون <code>primary_use</code> صحبت کنیم. متغیرهایی که مقادیر دسته‌ای دارند، ممکن است که شامل یک یا چند برچسب باشند که بسیار بیشتر از سایر برچسب‌ها ظاهر شده‌اند، و از طرفی ممکن است تعداد زیادی از برچسب‌ها دفعات کمی ظاهر شده باشند.\n",
    "<br>\n",
    "برای مثال، در نظر بگیرید که یک مجمع سهام‌داران داریم که در آن هر فرد می‌تواند به نسبت تعداد سهام خود رای دهد. یکی از سهام‌داران ۵۰ درصد سهام و ۹۹۹ سهام‌دار دیگر مالک ۵۰ درصد باقی‌مانده هستند. نتیجه‌ی رأی تا حد زیادی تحت تأثیر سهام‌داری قرار می‌گیرد که اکثریت سهام را در اختیار دارد. سهام‌داران باقی‌مانده ممکن است به‌طور جمعی تأثیر داشته باشند، اما تقریباً هیچ تأثیری به صورت جداگانه نداشته باشند.\n",
    "<br>\n",
    "این موضوع در مجموعه‌داده‌های واقعی نیز رخ می‌دهد. برچسبی که بیش از حد در مجموعه‌داده ظاهر شده است، تمایل دارد بر نتیجه‌گیری تسلط داشته باشد، و برچسب‌هایی که تعداد کمتری ظاهر شده‌اند، ممکن است به تنهایی تأثیری نداشته باشند، اما ممکن است به‌طور جمعی تأثیر بگذارند.\n",
    "<br>\n",
    "بنابراین، برای هر برچسب موجود در ستون <code>primary_use</code>، ابتدا درصد ظاهر شدن آن برچسب را محاسبه کنید و سپس میانگین مصرف برق برای هر یک محاسبه نمایید. می‌توانید این داده‌ها را به‌صورت یک نمودار نشان دهید تا درک بهتری از آن داشته باشیم. در ابتدا داده‌ها را بر اساس میانگین مصرف برق مرتب کنید و سپس در یک نمودار میله‌ای، درصد ظاهر شدن هر یک از برچسب‌ها را نمایش دهید. همچنین می‌توانید یک خط افقی در <code dir=ltr>Y=5</code> رسم کنید تا مشخص شود کدام یک از برچسب‌ها کمتر از ۵ درصد در داده ظاهر شده‌اند. سپس در همین نمودار، نمودار خطی میانگین مصرف برق را نیز رسم کنید.\n",
    "</font>\n",
    "</p>"
   ]
  },
  {
   "cell_type": "code",
   "execution_count": null,
   "metadata": {
    "id": "u86-4MH8E1zf"
   },
   "outputs": [],
   "source": [
    "# To-Do (Analysing primary_use column)"
   ]
  },
  {
   "cell_type": "markdown",
   "metadata": {
    "id": "1jaZBZbgu5Gz"
   },
   "source": [
    "<p dir=rtl style=\"direction: rtl;text-align: justify;line-height:200%;font-family:vazir;font-size:medium\">\n",
    "<font face=\"vazir\" size=3>\n",
    "با توجه به نمودار  بهتر است چهار ستون <code>Other</code>، <code>Utility</code>، <code>Retail</code> و <code>Parking</code> که میانگین مصرف مشابهی دارند را در گروه <code>Other</code> قرار دهیم و سپس با استفاده از  <code>LabelEncoder</code> برچسب‌ها را کدگذاری کنید.\n",
    "</font>\n",
    "</p>"
   ]
  },
  {
   "cell_type": "code",
   "execution_count": null,
   "metadata": {
    "id": "sMokW-P9HEqC"
   },
   "outputs": [],
   "source": [
    "# To-Do (Bin primary_use column)"
   ]
  },
  {
   "cell_type": "markdown",
   "metadata": {
    "id": "2EKLvICovyXM"
   },
   "source": [
    "<p dir=rtl style=\"direction: rtl;text-align: justify;line-height:200%;font-family:vazir;font-size:medium\">\n",
    "<font face=\"vazir\" size=3>\n",
    "دو ستون <code>month</code> و <code>timestamp</code> را از داده‌ها حذف نمایید و ستون هدف را از ماتریس ویژگی‌ها جدا نمایید.\n",
    "</font>\n",
    "</p>"
   ]
  },
  {
   "cell_type": "code",
   "execution_count": null,
   "metadata": {
    "id": "RxWvpF_4hZeD"
   },
   "outputs": [],
   "source": [
    "# To-Do (Remove month and timestamp columns and split target column)"
   ]
  },
  {
   "cell_type": "markdown",
   "metadata": {
    "id": "p-w60DwTwFfg"
   },
   "source": [
    "<p dir=rtl style=\"direction: rtl;text-align: justify;line-height:200%;font-family:vazir;font-size:medium\">\n",
    "<font face=\"vazir\" size=3>\n",
    "<a target=\"_blank\" href=\"https://scikit-learn.org/stable/modules/generated/sklearn.impute.KNNImputer.html\">KNNImputer</a> یک الگوریتم پر کننده‌ی مقادیر گم‌شده در ماشین لرنینگ است که برای پیش‌بینی و پر کردن مقادیر نامعتبر یا گم‌شده در داده‌ها استفاده می‌شود. این الگوریتم بر اساس روش <code>k</code> نزدیک‌ترین همسایه (<code>k</code>-Nearest Neighbors) عمل می‌کند.\n",
    "نحوه‌ی عملکرد <code>KNNImputer</code> به این صورت است:\n",
    "<br>\n",
    "۱. بر اساس ویژگی‌های موجود در داده‌ها، نزدیک‌ترین نمونه‌ها پیدا می‌شود. تعداد نزدیک‌ترین همسایه‌ها به تعداد <code>k</code> تعیین می‌شود. این تعداد معمولاً توسط کاربر یا به‌صورت خودکار انتخاب می‌شود.\n",
    "<br>\n",
    "۲. بر اساس مقادیر همسایگان نزدیک، مقدار گم‌شده را با معیاری مانند میانگین یا میانه مقادیر همسایگان پر می‌کند. در اینجا، میانگین مقادیر همسایگان نزدیک به مقدار گم‌شده برای پیش‌بینی مقدار جدید استفاده می‌شود.\n",
    "<br>\n",
    "۳. این الگوریتم به‌صورت متوالی برای تمام مقادیر گم‌شده در داده‌ها عمل می‌کند و آن‌ها را با مقادیر پیش‌بینی شده جایگزین می‌کند.\n",
    "<br>\n",
    "</font>\n",
    "</p>"
   ]
  },
  {
   "cell_type": "markdown",
   "metadata": {
    "id": "tBuORbBQ0goM"
   },
   "source": [
    "<p dir=rtl style=\"direction: rtl;text-align: justify;line-height:200%;font-family:vazir;font-size:medium\">\n",
    "<font face=\"vazir\" size=3>\n",
    "توضیح هر کدام از پارامتر ها این الگوریتم به صورت زیر است:\n",
    "<br>\n",
    "1. <code>`n_neighbors`</code>: این پارامتر تعداد نزدیک‌ترین همسایه‌ها (<code>k</code>) را تعیین می‌کند که برای پر کردن مقدار گم‌شده در نظر گرفته می‌شود. این پارامتر را ۵ قرار دهید.\n",
    "<br>\n",
    "2. <code>`weights`</code>: این پارامتر عامل وزن‌دهی به همسایگان نزدیک‌ترین را تعیین می‌کند. مقدار این پارامتر را  <code>'distance'</code> قرار دهید.\n",
    "<br>\n",
    "3. <code>`metric`</code>: این پارامتر معیار محاسبه فاصله بین نقاط را تعیین می‌کند. از معیار <code>'nan_euclidean'</code> استفاده کنید که معیار اقلیدسی است که برای محاسبه فاصله بین نقاط با در نظر گرفتن مقادیر گم‌شده (<code>NaN</code>) استفاده می‌شود.\n",
    "<br>\n",
    "4. <code>`add_indicator`</code>: این پارامتر نشان‌دهنده این است که آیا یک نشانگر مقادیر گم‌شده به داده اضافه شود یا خیر. اگر این پارامتر برابر با <code>True</code> باشد، یک ستون اضافی به داده اضافه می‌شود که نشانگر مقادیر گم‌شده را دریافت می‌کند. پارامتر را <code>False</code> قرار دهید.\n",
    "<br>\n",
    "<br>\n",
    "برای مطالعه بیشتر به این <a target=\"_blank\" href=\"https://www.analyticsvidhya.com/blog/2020/07/knnimputer-a-robust-way-to-impute-missing-values-using-scikit-learn/\">لینک</a>  مراجعه کنید.\n",
    "</font>\n",
    "</p>"
   ]
  },
  {
   "cell_type": "code",
   "execution_count": null,
   "metadata": {
    "id": "Wu34L_5qzegP"
   },
   "outputs": [],
   "source": [
    "# To-Do (KNNImputer)"
   ]
  },
  {
   "cell_type": "markdown",
   "metadata": {
    "id": "_qIE9NHxr666"
   },
   "source": [
    "<p dir=rtl style=\"direction: rtl;text-align: justify;line-height:200%;font-family:vazir;font-size:medium\">\n",
    "<font face=\"vazir\" size=3>\n",
    "و در انتها داده‌ها را با استفاده از تکنیک <code>StandardScaler</code> تغییر مقیاس دهید و توزیع داده‌ها را دوباره رسم نمایید.\n",
    "</font>\n",
    "</p>"
   ]
  },
  {
   "cell_type": "code",
   "execution_count": null,
   "metadata": {
    "id": "bFEMVDNur6Ku"
   },
   "outputs": [],
   "source": [
    "# To-Do (StandardScaler)"
   ]
  },
  {
   "cell_type": "markdown",
   "metadata": {
    "id": "lh-1mmOpsAnG"
   },
   "source": [
    "<p dir=rtl style=\"direction: rtl;text-align: justify;line-height:200%;font-family:vazir;font-size:medium\">\n",
    "<font face=\"vazir\" size=3>\n",
    "در نهایت، داده‌ها را به یک <code>DecisionTreeRegressor</code> با پارامتر <code dir=ltr>max_depth=20</code> بدهید و مقدار R-squared (R2) را محاسبه کنید، تا بتوانیم مدل را با داده‌هایی که هیچ پیش پردازشی نداشتند مقایسه کنیم."
   ]
  },
  {
   "cell_type": "code",
   "execution_count": null,
   "metadata": {
    "id": "6Kfu2pHZsEMW"
   },
   "outputs": [],
   "source": [
    "# To-Do (Modeling)"
   ]
  },
  {
   "cell_type": "markdown",
   "metadata": {
    "id": "3CTr-KHG-lh8"
   },
   "source": [
    "<p dir=rtl style=\"direction: rtl;text-align: justify;line-height:200%;font-family:vazir;font-size:medium\">\n",
    "<font face=\"vazir\" size=3>\n",
    "یکی دیگر از روش‌های مفید برای پردازش داده‌ها، استفاده از <a target=\"_blank\" href=\"https://scikit-learn.org/stable/modules/generated/sklearn.preprocessing.PowerTransformer.html\">PowerTransformer</a>  می‌باشد. این تبدیلات معمولاً در مواقع زیر مورد استفاده قرار می‌گیرند:\n",
    "<br>\n",
    "۱. توزیع ناهمگن داده: وقتی داده‌ها دارای توزیع ناهمگن هستند، به این معنا که تغییرات مقیاس داده‌ها در بازه‌های مختلف متغیر است، تبدیل به توزیع نرمال با استفاده از <code>PowerTransformer</code> می‌تواند بهبودی در توزیع داده‌ها ایجاد کند.\n",
    "<br>\n",
    "۲. کاهش تاثیر داده‌های پرت: تبدیل به توزیع نرمال معمولاً تاثیر داده‌های پرت را کاهش می‌دهد. داده‌های پرت به‌طور معمول دارای توزیع‌های ناهمگن هستند و <code>PowerTransformer</code> می‌تواند این توزیع‌ها را بهبود بخشند.\n",
    "<br>\n",
    "۳. تحلیل و مدل‌سازی بهتر: در برخی از مدل‌ها و روش‌های آماری، فرض می‌شود که داده‌ها از توزیع نرمال پیروی می‌کنند. با تبدیل داده‌ها به توزیع نرمال، می‌توان تحلیل و مدل‌سازی را بهبود بخشید.\n",
    "<br>\n",
    "توجه داشته باشید که <code>PowerTransformer</code> دو نوع متد به نام‌های <code>'cox-box'</code> و <code>'yeo-johnson'</code> دارند. <code>'cox-box'</code> نیازمند این است که داده‌ها مثبت باشند.\n",
    "<br>\n",
    "اگر توزیع بردار هدف را هم در مجموعه‌ی آموزش و هم در داده اعتبارسنجی/آزمون رسم کنیم متوجه غیر نرمال بودن آن می‌شویم، پس از <code>PowerTransformer</code> برای این بردارها استفاده کنید و سپس توزیع جدید آن را نیز رسم کنید .\n",
    "<br>\n",
    "در نهایت، داده‌های هدف تبدیل‌شده را با ماتریس ویژگی‌ها به مدل <code>DecisionTreeRegressor</code> با پارامتر <code dir=ltr>max_depth=20</code> بدهید. سپس با استفاده از معیار R-squared (R2)، عملکرد مدل را ارزیابی کنید. این کار این امکان را به شما می‌دهد تا مدل پیش‌بینی را با داده‌هایی که هیچ پیش‌پردازشی نداشتند مقایسه کنید.\n",
    "</font>\n",
    "</p>"
   ]
  },
  {
   "cell_type": "code",
   "execution_count": null,
   "metadata": {
    "id": "fzFJXIjO-qnC"
   },
   "outputs": [],
   "source": [
    "# To-Do (PowerTransformer)"
   ]
  },
  {
   "cell_type": "markdown",
   "metadata": {
    "id": "63nbNi3UGms8"
   },
   "source": [
    "<h1 align=center style=\"line-height:200%;font-family:vazir;color:#0099cc\">\n",
    "<font face=\"vazir\" color=\"#0099cc\">اختیاری\n",
    "</font>\n",
    "</h1>\n",
    "<p dir=rtl style=\"direction: rtl;text-align: justify;line-height:200%;font-family:vazir;font-size:medium\">\n",
    "<font face=\"vazir\" size=3>\n",
    "با توجه به حجیم بودن مجموعه داده،‌ اجرای این بخش زمان زیادی می‌برد در نتیجه انجام آن اختیاری است.\n",
    "<br>\n",
    "در بخش قبلی از پردازش داده‌ها، مشاهده کردیم که تقریباً ۸۰ درصد از داده‌های ستون <code>floor_count</code> مقادیر گم‌شده دارند و ما برای حل این مشکل سطرهایی که این مقادیر را ندارند را حذف کردیم. اگرچه در این مورد ما با یک مجموعه‌داده‌ی بزرگ و تعداد داده‌های کافی رو‌به‌رو بودیم و مدل خود را با حدود ۲ میلیون نمونه آموزش دادیم، اما باید توجه داشته باشیم که در مواقعی این اقدام به دلیل اندازه‌ی کوچک‌تر مجموعه داده‌ها امکان‌پذیر نیست.\n",
    "<br>\n",
    "با توجه به ماهیت ستون <code>floor_count</code> استفاده از روش‌های معمول پر کردن داده‌های گم‌شده کارآمد نیست (به دلیل عدم وجود الگوهای قابل تشخیص). در چنین مواقعی، یک رویکرد حرفه‌ای این است که از یک مدل یادگیری ماشین جهت پیش‌بینی تعداد طبقات ساختمان استفاده کنیم. به این‌صورت که ستون <code>meter_reading</code> به عنوان یک ستون از ماتریس ویژگی‌ها عمل کند و ستون <code>floor_count</code> به‌عنوان ستون هدف ما در مدل تعیین شود.\n",
    "<br>\n",
    "به این ترتیب، مدلی را با استفاده از داده‌هایی که مقادیر <code>floor_count</code> دارند، آموزش داده و سپس مقادیر <code>floor_count</code> در سطرهایی که مقدار <code>NaN</code> دارند را پیش‌بینی می‌کنیم. سپس از داده‌های جدید حاصل از پیش‌بینی برای محاسبه مصرف برق نهایی استفاده می‌شود.\n",
    "</font>\n",
    "</p>\n"
   ]
  },
  {
   "cell_type": "code",
   "execution_count": null,
   "metadata": {
    "id": "aThE6dGeRhYJ"
   },
   "outputs": [],
   "source": [
    "# To-Do (Predicting floor_count based on other features)"
   ]
  },
  {
   "cell_type": "markdown",
   "metadata": {
    "id": "jK2EC4LhcKth"
   },
   "source": [
    "<h1 align=center style=\"line-height:200%;font-family:vazir;color:#0099cc\">\n",
    "<font face=\"vazir\" color=\"#0099cc\">\n",
    ":) بیشتر بدانیم\n",
    "</font>\n",
    "</h1>"
   ]
  },
  {
   "cell_type": "markdown",
   "metadata": {
    "id": "U_P8mxz5YQVP"
   },
   "source": [
    "<p dir=rtl style=\"direction: rtl;text-align: justify;line-height:200%;font-family:vazir;font-size:medium\">\n",
    "<font face=\"vazir\" size=3>\n",
    "کتابخانه‌های <a target=\"_blank\" href=\"https://github.com/man-group/dtale\">dtale</a> و <a target=\"_blank\" href=\"https://pypi.org/project/pandas-profiling/\">pandas-profiling</a>، دو کتابخانه‌ی پایتون مفید برای تحلیل و اکتشاف داده‌ها در فرآیند تحلیل داده هستند.\n",
    "<br>\n",
    "<br>\n",
    "ویژگی‌های کلیدی <code>dtale</code> عبارتند از:\n",
    "<br>\n",
    "<strong dir=rtl>۱. مصورسازی داده</strong>: <code>dtale</code> به شما امکان می‌دهد تا داده‌های خود را به صورت تعاملی و با استفاده از نمودارها و چارت‌های مختلف مشاهده کنید. این ویژگی به شما کمک می‌کند تا توزیع داده‌ها، الگوها، اتفاقات نادر، و ارتباطات بین متغیرها را به‌طور سریع تشخیص دهید.\n",
    "<br>\n",
    "<strong>۲. گزارش‌های توصیفی</strong>: <code>dtale</code> گزارش‌های توصیفی برای هر متغیر از داده‌ها تولید می‌کند. این گزارش شامل آماره‌های مهمی مانند میانگین، واریانس، میانه و نمودارهای مرتبط با هر متغیر است.\n",
    "<br>\n",
    "<strong>۳. پیش‌پردازش داده</strong>: شما می‌توانید با استفاده از <code>dtale</code> داده‌های خود را پیش‌پردازش کنید، مانند حذف داده‌های تکراری، تصحیح داده‌های نامتناسب، و پر کردن مقادیر خالی.\n",
    "<br>\n",
    "<strong>۴. تحلیل ارتباط بین متغیرها</strong>: <code>dtale</code> به شما امکان می‌دهد تا ارتباطات بین متغیرها را با استفاده از نمودارهای رابطه (scatter plots) و نمودارهای هیستوگرام مشاهده کنید.\n",
    "<br>\n",
    "<strong>۵. بازسازی داده</strong>: شما می‌توانید با استفاده از <code>dtale</code> داده‌ها را بازسازی کنید و نتایج تحلیل را به صورت <code>CSV</code> یا <code>Excel</code> ذخیره کنید.\n",
    "<br>\n",
    "<br>\n",
    "<code>pandas_profiling</code> یک کتابخانه دیگر برای اکتشاف داده‌ها و تولید گزارش‌های توصیفی است. این کتابخانه به‌صورت خودکار اطلاعات جامعی در مورد داده‌های شما تولید می‌کند. ویژگی‌های کلیدی آن عبارتند از:\n",
    "<br>\n",
    "<strong>۱. گزارش‌های جامع</strong>: <code>pandas_profiling</code> به صورت خودکار گزارش‌های جامعی در مورد داده‌ها تولید می‌کند که شامل توصیف‌های مختلفی از داده‌ها می‌شوند. این گزارش‌ها شامل آماره‌های توصیفی، توزیع‌ها، نمودارها، و تحلیل‌های مربوط به هر متغیر می‌شوند.\n",
    "<br>\n",
    "<strong>۲. شناسایی متغیرهای تکراری</strong>: <code>pandas_profiling</code> متغیرهای تکراری در داده‌ها را تشخیص می‌دهد و به شما اطلاعات مفیدی برای پاکسازی داده‌ها ارائه می‌کند.\n",
    "<br>\n",
    "<strong>۳. تشخیص مقادیر نامتعارف</strong>: این کتابخانه مقادیر نامعمول و نامتعارف در داده‌ها را شناسایی می‌کند و به شما اطلاع می‌دهد.\n",
    "<br>\n",
    "<strong>۴. گزارشات <code>HTML</code></strong>: گزارش‌های تولید شده توسط <code>pandas_profiling</code> به صورت فایل‌های <code>HTML</code> ذخیره می‌شوند که می‌توانید آن‌ها را برای مشاهده و به اشتراک گذاری استفاده کنید.\n",
    "</font>\n",
    "</p>\n"
   ]
  }
 ],
 "metadata": {
  "colab": {
   "provenance": [],
   "toc_visible": true
  },
  "kernelspec": {
   "display_name": "Python 3 (ipykernel)",
   "language": "python",
   "name": "python3"
  },
  "language_info": {
   "codemirror_mode": {
    "name": "ipython",
    "version": 3
   },
   "file_extension": ".py",
   "mimetype": "text/x-python",
   "name": "python",
   "nbconvert_exporter": "python",
   "pygments_lexer": "ipython3",
   "version": "3.10.7"
  },
  "vscode": {
   "interpreter": {
    "hash": "44e7e1b8fa2096bd5707ed7fd18b1724a2db25f4c565a7673f8b6e7bfc49d25d"
   }
  }
 },
 "nbformat": 4,
 "nbformat_minor": 1
}
